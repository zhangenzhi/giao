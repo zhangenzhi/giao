{
 "cells": [
  {
   "cell_type": "code",
   "execution_count": 11,
   "metadata": {},
   "outputs": [],
   "source": [
    "import os\n",
    "import numpy as np\n",
    "import tensorflow as tf\n",
    "from easydict import EasyDict as edict\n",
    "import matplotlib.pyplot as plt\n",
    "\n",
    "# modules\n",
    "from dataloader import Cifar10DataLoader, MnistDataLoader\n",
    "from dnn import DNN"
   ]
  },
  {
   "cell_type": "code",
   "execution_count": 12,
   "metadata": {},
   "outputs": [],
   "source": [
    "dataloader_args = edict({\"batch_size\": 128, \"epochs\": 20, \"da\": False})\n",
    "dataloader = MnistDataLoader(dataloader_args=dataloader_args)\n",
    "train_dataset, valid_dataset, test_dataset = dataloader.load_dataset()\n",
    "\n",
    "def display(display_list):\n",
    "  plt.figure(figsize=(15, 15))\n",
    "\n",
    "  title = ['Input Image', 'Predicted Image']\n",
    "\n",
    "  for i in range(len(display_list)):\n",
    "    plt.subplot(1, len(display_list), i+1)\n",
    "    plt.title(title[i])\n",
    "    plt.imshow(tf.keras.utils.array_to_img(display_list[i]))\n",
    "    plt.axis('off')\n",
    "  plt.show()\n",
    "\n",
    "def plot_train(display_list):\n",
    "  # plt.figure(figsize=(10, 10))\n",
    "  label = ['Train', 'Test']\n",
    "  for i in range(len(display_list)):\n",
    "    plt.plot(display_list[i], label=label[i])\n",
    "  plt.legend()\n",
    "  plt.show()\n",
    "  "
   ]
  },
  {
   "cell_type": "code",
   "execution_count": 13,
   "metadata": {},
   "outputs": [],
   "source": [
    "model_args = edict({\"units\":[128,64,32,10], \"activations\":[\"relu\",\"relu\",\"relu\",\"softmax\"]})\n",
    "model = DNN(units=model_args.units, activations=model_args.activations)"
   ]
  },
  {
   "cell_type": "code",
   "execution_count": 14,
   "metadata": {},
   "outputs": [],
   "source": [
    "train_loss_fn = tf.keras.losses.CategoricalCrossentropy()\n",
    "mt_loss_fn = tf.keras.metrics.Mean()\n",
    "test_loss_fn = tf.keras.losses.CategoricalCrossentropy()\n",
    "mte_loss_fn = tf.keras.metrics.Mean()\n",
    "opt_loss = tf.keras.losses.categorical_crossentropy\n",
    "\n",
    "train_metrics = tf.keras.metrics.CategoricalAccuracy()\n",
    "test_metrics = tf.keras.metrics.CategoricalAccuracy()\n",
    "optimizer = tf.keras.optimizers.SGD(0.1)"
   ]
  },
  {
   "cell_type": "code",
   "execution_count": 15,
   "metadata": {},
   "outputs": [],
   "source": [
    "# @tf.function(experimental_relax_shapes=True, experimental_compile=None)\n",
    "def _train_step(inputs, labels, first_batch=False):\n",
    "    with tf.GradientTape() as tape:\n",
    "        predictions = model(inputs)\n",
    "        loss = train_loss_fn(labels, predictions)\n",
    "        metrics = tf.reduce_mean(train_metrics(labels, predictions))\n",
    "        gradients = tape.gradient(loss, model.trainable_variables)\n",
    "        optimizer.apply_gradients(zip(gradients, model.trainable_variables))\n",
    "\n",
    "    mt_loss_fn.update_state(loss)\n",
    "    \n",
    "    return loss, metrics\n",
    "\n",
    "def _test_step(inputs, labels):\n",
    "    predictions = model(inputs)\n",
    "    loss = test_loss_fn(labels, predictions)\n",
    "    opt_label = opt_loss(labels, predictions)\n",
    "    metrics = tf.reduce_mean(test_metrics(labels, predictions))\n",
    "    mte_loss_fn.update_state(loss)\n",
    "    \n",
    "    return loss, metrics, opt_label"
   ]
  },
  {
   "cell_type": "code",
   "execution_count": 16,
   "metadata": {},
   "outputs": [
    {
     "data": {
      "image/png": "[encoded data removed]",
      "text/plain": [
       "<Figure size 1080x1080 with 2 Axes>"
      ]
     },
     "metadata": {
      "needs_background": "light"
     },
     "output_type": "display_data"
    }
   ],
   "source": [
    "iter_train = iter(train_dataset)\n",
    "iter_valid = iter(valid_dataset)\n",
    "iter_test = iter(test_dataset)\n",
    "test_data =  iter_test.get_next()\n",
    "\n",
    "display([test_data[\"inputs\"][0],test_data[\"inputs\"][0]])"
   ]
  },
  {
   "cell_type": "code",
   "execution_count": 17,
   "metadata": {},
   "outputs": [],
   "source": [
    "model_opt = []\n",
    "opt_label = []\n",
    "def collect_model_operator(variables, loss):\n",
    "    weights = [w.numpy() for w in variables]\n",
    "    opt = DNN(units=model_args.units, \n",
    "            activations=model_args.activations,\n",
    "            init_value=weights)\n",
    "    opt_label.append(loss)\n",
    "    model_opt.append(opt)\n",
    "\n",
    "records = edict({'epoch':[],'train_loss':[],'test_loss':[],'train_metric':[],'test_metric':[]})\n",
    "def obtain_model_opts(sample_gap=20):\n",
    "    for e in range(dataloader.info.epochs):\n",
    "        mt_loss_fn.reset_states()\n",
    "        train_metrics.reset_states()\n",
    "        mte_loss_fn.reset_states()\n",
    "        test_metrics.reset_states()\n",
    "        for step in range(dataloader.info.train_step):\n",
    "            data = iter_train.get_next()\n",
    "            train_loss, acc = _train_step(inputs=data[\"inputs\"], labels=data[\"labels\"])\n",
    "            if (e*dataloader.info.train_step + step)%sample_gap ==0:\n",
    "                test_loss, test_acc, opt_label = _test_step(inputs=test_data[\"inputs\"], labels=test_data[\"labels\"])\n",
    "                collect_model_operator(model.trainable_variables, test_loss)\n",
    "                \n",
    "        records.epoch        += [e]\n",
    "        records.train_loss   += [mt_loss_fn.result().numpy()]\n",
    "        records.train_metric += [train_metrics.result().numpy()]\n",
    "        records.test_loss    += [mte_loss_fn.result().numpy()]\n",
    "        records.test_metric  += [test_metrics.result().numpy()]\n",
    "        log = \"\"\n",
    "        for k,v in records.items():\n",
    "            log += \"{}: {} \".format(k,v[-1])\n",
    "        print(log)"
   ]
  },
  {
   "cell_type": "code",
   "execution_count": 18,
   "metadata": {},
   "outputs": [],
   "source": [
    "\n",
    "def init_model_opt(raw_model_opt, data):\n",
    "    \n",
    "    def opt_test_step(opt, inputs, labels):\n",
    "        predictions = opt(inputs)\n",
    "        loss = test_loss_fn(labels, predictions)\n",
    "        metrics = tf.reduce_mean(test_metrics(labels, predictions))\n",
    "        mte_loss_fn.update_state(loss)\n",
    "        return loss, metrics\n",
    "\n",
    "    for idx in range(len(raw_model_opt)):\n",
    "        mte_loss_fn.reset_states()\n",
    "        test_metrics.reset_states()\n",
    "        for step in range(1):\n",
    "            data = test_data\n",
    "            test_loss, test_acc = opt_test_step(opt=raw_model_opt[idx], inputs=data[\"inputs\"], labels=data[\"labels\"])\n",
    "        print(\"Init: opt_id:{}, Test loss:{}, Test acc:{}\".format(idx,\n",
    "                                                        mte_loss_fn.result().numpy(),\n",
    "                                                        test_metrics.result().numpy()))\n",
    "            \n",
    "def hard_save_model_opt(online_model_opt, path=\"./model_opt\"):\n",
    "    init_model_opt(online_model_opt, test_data)\n",
    "    for idx in range(len(online_model_opt)):\n",
    "        mpath = os.path.join(path, \"opt_{}\".format(idx))\n",
    "        online_model_opt[idx].save(mpath, overwrite=True, save_format='tf')\n",
    "\n",
    "def load_model_opt(path=\"./model_opt\"):\n",
    "    offline_model_opt = []\n",
    "    model_opt_list = os.listdir(path=path)\n",
    "    for idx in range(len(model_opt_list)):\n",
    "        mpath = os.path.join(path,  \"opt_{}\".format(idx))\n",
    "        offline_model_opt.append(tf.keras.models.load_model(mpath))\n",
    "    init_model_opt(offline_model_opt, test_data)\n",
    "    return offline_model_opt"
   ]
  },
  {
   "cell_type": "code",
   "execution_count": 22,
   "metadata": {},
   "outputs": [
    {
     "data": {
      "image/png": "[encoded data removed]",
      "text/plain": [
       "<Figure size 432x288 with 1 Axes>"
      ]
     },
     "metadata": {
      "needs_background": "light"
     },
     "output_type": "display_data"
    }
   ],
   "source": [
    "# code test\n"
   ]
  },
  {
   "cell_type": "code",
   "execution_count": 20,
   "metadata": {},
   "outputs": [
    {
     "name": "stdout",
     "output_type": "stream",
     "text": [
      "epoch: 0 train_loss: 0.9408418536186218 test_loss: 0.9677136540412903 train_metric: 0.6799078583717346 test_metric: 0.6792969107627869 \n",
      "epoch: 1 train_loss: 0.3286469876766205 test_loss: 0.3392532765865326 train_metric: 0.9031631350517273 test_metric: 0.8984375 \n",
      "epoch: 2 train_loss: 0.24663417041301727 test_loss: 0.2468700259923935 train_metric: 0.9262548685073853 test_metric: 0.916796863079071 \n",
      "epoch: 3 train_loss: 0.1885223090648651 test_loss: 0.18515031039714813 train_metric: 0.943333089351654 test_metric: 0.9333881735801697 \n",
      "epoch: 4 train_loss: 0.15518784523010254 test_loss: 0.14429917931556702 train_metric: 0.9536161422729492 test_metric: 0.944140613079071 \n",
      "epoch: 5 train_loss: 0.13013523817062378 test_loss: 0.11050038784742355 train_metric: 0.9607973098754883 test_metric: 0.9588815569877625 \n",
      "epoch: 6 train_loss: 0.11006798595190048 test_loss: 0.09049724042415619 train_metric: 0.9678680300712585 test_metric: 0.9671875238418579 \n",
      "epoch: 7 train_loss: 0.09555160254240036 test_loss: 0.08626590669155121 train_metric: 0.9708747863769531 test_metric: 0.9683388471603394 \n",
      "epoch: 8 train_loss: 0.08268319070339203 test_loss: 0.0733005478978157 train_metric: 0.9751242995262146 test_metric: 0.9761719107627869 \n",
      "epoch: 9 train_loss: 0.0760531798005104 test_loss: 0.0680251345038414 train_metric: 0.9770486354827881 test_metric: 0.9757401347160339 \n",
      "epoch: 10 train_loss: 0.0671520084142685 test_loss: 0.0700431764125824 train_metric: 0.9799351096153259 test_metric: 0.9781250357627869 \n",
      "epoch: 11 train_loss: 0.060795292258262634 test_loss: 0.062861867249012 train_metric: 0.981330156326294 test_metric: 0.9777960777282715 \n",
      "epoch: 12 train_loss: 0.05383317917585373 test_loss: 0.056760307401418686 train_metric: 0.9837837219238281 test_metric: 0.979687511920929 \n",
      "epoch: 13 train_loss: 0.04866380617022514 test_loss: 0.05355105921626091 train_metric: 0.9849262833595276 test_metric: 0.9786184430122375 \n",
      "epoch: 14 train_loss: 0.04231837019324303 test_loss: 0.053493428975343704 train_metric: 0.9871111512184143 test_metric: 0.9800781607627869 \n",
      "epoch: 15 train_loss: 0.040402792394161224 test_loss: 0.06546797603368759 train_metric: 0.9879530668258667 test_metric: 0.9761513471603394 \n",
      "epoch: 16 train_loss: 0.03575458005070686 test_loss: 0.0510915108025074 train_metric: 0.9894163012504578 test_metric: 0.979687511920929 \n",
      "epoch: 17 train_loss: 0.03245437517762184 test_loss: 0.055329691618680954 train_metric: 0.990825355052948 test_metric: 0.9798519611358643 \n",
      "epoch: 18 train_loss: 0.02845153957605362 test_loss: 0.04569244012236595 train_metric: 0.9920021295547485 test_metric: 0.979687511920929 \n",
      "epoch: 19 train_loss: 0.02502274140715599 test_loss: 0.05965077131986618 train_metric: 0.992623507976532 test_metric: 0.9724506735801697 \n",
      "390\n"
     ]
    }
   ],
   "source": [
    "# training\n",
    "obtain_model_opts(sample_gap=20) \n",
    "print(len(model_opt))"
   ]
  },
  {
   "cell_type": "code",
   "execution_count": null,
   "metadata": {},
   "outputs": [],
   "source": [
    "# save model opt\n",
    "hard_save_model_opt(model_opt)"
   ]
  },
  {
   "cell_type": "code",
   "execution_count": null,
   "metadata": {},
   "outputs": [],
   "source": [
    "# load model opt\n",
    "# off_model_opt = load_model_opt()"
   ]
  },
  {
   "cell_type": "code",
   "execution_count": 23,
   "metadata": {},
   "outputs": [
    {
     "data": {
      "image/png": "[encoded data removed]",
      "text/plain": [
       "<Figure size 432x288 with 1 Axes>"
      ]
     },
     "metadata": {
      "needs_background": "light"
     },
     "output_type": "display_data"
    },
    {
     "data": {
      "image/png": "[encoded data removed]",
      "text/plain": [
       "<Figure size 432x288 with 1 Axes>"
      ]
     },
     "metadata": {
      "needs_background": "light"
     },
     "output_type": "display_data"
    }
   ],
   "source": [
    "#metrics visualization\n",
    "plot_train([records.train_loss,records.test_loss])\n",
    "plot_train([opt_label,opt_label])"
   ]
  }
 ],
 "metadata": {
  "kernelspec": {
   "display_name": "base",
   "language": "python",
   "name": "python3"
  },
  "language_info": {
   "codemirror_mode": {
    "name": "ipython",
    "version": 3
   },
   "file_extension": ".py",
   "mimetype": "text/x-python",
   "name": "python",
   "nbconvert_exporter": "python",
   "pygments_lexer": "ipython3",
   "version": "3.9.12"
  },
  "orig_nbformat": 4,
  "vscode": {
   "interpreter": {
    "hash": "14ddbbabdf1cc89aed24e001be3922f4034073f682acd1338a644a14376bd924"
   }
  }
 },
 "nbformat": 4,
 "nbformat_minor": 2
}
