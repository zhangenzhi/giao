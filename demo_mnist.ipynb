{
 "cells": [
  {
   "cell_type": "code",
   "execution_count": 1,
   "metadata": {},
   "outputs": [],
   "source": [
    "import os\n",
    "import random\n",
    "import numpy as np\n",
    "import tensorflow as tf\n",
    "\n",
    "from easydict import EasyDict as edict\n",
    "import matplotlib.pyplot as plt\n",
    "\n",
    "# modules\n",
    "from dataloader import Cifar10DataLoader, MnistDataLoader\n",
    "from dnn import DNN\n",
    "from unet import UNet,CUNet\n",
    "from diffusion import DiffusionUnet"
   ]
  },
  {
   "cell_type": "code",
   "execution_count": 2,
   "metadata": {},
   "outputs": [
    {
     "name": "stdout",
     "output_type": "stream",
     "text": [
      "Metal device set to: Apple M2\n",
      "\n",
      "systemMemory: 8.00 GB\n",
      "maxCacheSize: 2.67 GB\n",
      "\n"
     ]
    },
    {
     "name": "stderr",
     "output_type": "stream",
     "text": [
      "2023-02-01 15:57:22.867900: I tensorflow/core/common_runtime/pluggable_device/pluggable_device_factory.cc:306] Could not identify NUMA node of platform GPU ID 0, defaulting to 0. Your kernel may not have been built with NUMA support.\n",
      "2023-02-01 15:57:22.868221: I tensorflow/core/common_runtime/pluggable_device/pluggable_device_factory.cc:272] Created TensorFlow device (/job:localhost/replica:0/task:0/device:GPU:0 with 0 MB memory) -> physical PluggableDevice (device: 0, name: METAL, pci bus id: <undefined>)\n"
     ]
    }
   ],
   "source": [
    "dataloader_args = edict({\"batch_size\": 256, \"epochs\": 50, \"da\": False})\n",
    "# dataloader = MnistDataLoader(dataloader_args=dataloader_args)\n",
    "dataloader = Cifar10DataLoader(dataloader_args=dataloader_args)\n",
    "train_dataset, valid_dataset, test_dataset = dataloader.load_dataset()\n",
    "\n",
    "def display(display_list):\n",
    "  plt.figure(figsize=(15, 15))\n",
    "\n",
    "  title = ['Input Image', 'Predicted Image', 'Test Image']\n",
    "\n",
    "  for i in range(len(display_list)):\n",
    "    plt.subplot(1, len(display_list), i+1)\n",
    "    plt.title(title[i])\n",
    "    plt.imshow(tf.keras.utils.array_to_img(display_list[i]))\n",
    "    plt.axis('off')\n",
    "  plt.show()\n",
    "\n",
    "def plot_train(display_list):\n",
    "  # plt.figure(figsize=(10, 10))\n",
    "  label = ['Train', 'Test']\n",
    "  for i in range(len(display_list)):\n",
    "    plt.plot(display_list[i], label=label[i])\n",
    "  plt.legend()\n",
    "  plt.show()\n",
    "  "
   ]
  },
  {
   "cell_type": "code",
   "execution_count": 3,
   "metadata": {},
   "outputs": [],
   "source": [
    "model_args = edict({\"units\":[128,64,32,10], \"activations\":[\"relu\",\"relu\",\"relu\",\"softmax\"]})\n",
    "model = DNN(units=model_args.units, activations=model_args.activations)"
   ]
  },
  {
   "cell_type": "code",
   "execution_count": 4,
   "metadata": {},
   "outputs": [],
   "source": [
    "train_loss_fn = tf.keras.losses.CategoricalCrossentropy()\n",
    "mt_loss_fn = tf.keras.metrics.Mean()\n",
    "test_loss_fn = tf.keras.losses.CategoricalCrossentropy()\n",
    "mte_loss_fn = tf.keras.metrics.Mean()\n",
    "opt_loss_fn = tf.keras.losses.categorical_crossentropy\n",
    "\n",
    "train_metrics = tf.keras.metrics.CategoricalAccuracy()\n",
    "test_metrics = tf.keras.metrics.CategoricalAccuracy()\n",
    "optimizer = tf.keras.optimizers.SGD(0.1)"
   ]
  },
  {
   "cell_type": "code",
   "execution_count": 5,
   "metadata": {},
   "outputs": [],
   "source": [
    "# @tf.function(experimental_relax_shapes=True, experimental_compile=None)\n",
    "def _train_step(inputs, labels, first_batch=False):\n",
    "    with tf.GradientTape() as tape:\n",
    "        predictions = model(inputs)\n",
    "        loss = train_loss_fn(labels, predictions)\n",
    "        metrics = tf.reduce_mean(train_metrics(labels, predictions))\n",
    "        gradients = tape.gradient(loss, model.trainable_variables)\n",
    "        optimizer.apply_gradients(zip(gradients, model.trainable_variables))\n",
    "\n",
    "    mt_loss_fn.update_state(loss)\n",
    "    \n",
    "    return loss, metrics\n",
    "\n",
    "def _test_step(inputs, labels):\n",
    "    predictions = model(inputs)\n",
    "    loss = test_loss_fn(labels, predictions)\n",
    "    opt_loss = opt_loss_fn(labels, predictions)\n",
    "    metrics = tf.reduce_mean(test_metrics(labels, predictions))\n",
    "    mte_loss_fn.update_state(loss)\n",
    "    \n",
    "    return loss, metrics, opt_loss"
   ]
  },
  {
   "cell_type": "code",
   "execution_count": 6,
   "metadata": {},
   "outputs": [
    {
     "data": {
      "image/png": "[encoded data removed]",
      "text/plain": [
       "<Figure size 1080x1080 with 3 Axes>"
      ]
     },
     "metadata": {
      "needs_background": "light"
     },
     "output_type": "display_data"
    }
   ],
   "source": [
    "iter_train = iter(train_dataset)\n",
    "iter_valid = iter(valid_dataset)\n",
    "iter_test = iter(test_dataset)\n",
    "test_data =  iter_test.get_next()\n",
    "\n",
    "display([test_data[\"inputs\"][0],test_data[\"inputs\"][1],test_data[\"inputs\"][2]])"
   ]
  },
  {
   "cell_type": "code",
   "execution_count": 7,
   "metadata": {},
   "outputs": [],
   "source": [
    "model_opt = []\n",
    "opt_label = []\n",
    "def collect_model_operator(variables, loss):\n",
    "    weights = [w.numpy() for w in variables]\n",
    "    opt = DNN(units=model_args.units, \n",
    "            activations=model_args.activations,\n",
    "            init_value=weights)\n",
    "    opt_label.append(loss)\n",
    "    model_opt.append(opt)\n",
    "\n",
    "records = edict({'epoch':[],'train_loss':[],'test_loss':[],'train_metric':[],'test_metric':[]})\n",
    "def obtain_model_opts(sample_start=30, sample_gap=20):\n",
    "    for e in range(dataloader.info.epochs):\n",
    "        mt_loss_fn.reset_states()\n",
    "        train_metrics.reset_states()\n",
    "        mte_loss_fn.reset_states()\n",
    "        test_metrics.reset_states()\n",
    "        for step in range(dataloader.info.train_step):\n",
    "            data = iter_train.get_next()\n",
    "            train_loss, acc = _train_step(inputs=data[\"inputs\"], labels=data[\"labels\"])\n",
    "            if (e*dataloader.info.train_step + step)%sample_gap ==0:\n",
    "                if e >= sample_start:\n",
    "                    test_loss, test_acc, opt_loss = _test_step(inputs=test_data[\"inputs\"], labels=test_data[\"labels\"])\n",
    "                    collect_model_operator(model.trainable_variables, opt_loss)\n",
    "                    \n",
    "        test_loss, test_acc, _ = _test_step(inputs=test_data[\"inputs\"], labels=test_data[\"labels\"])\n",
    "        records.epoch        += [e]\n",
    "        records.train_loss   += [mt_loss_fn.result().numpy()]\n",
    "        records.train_metric += [train_metrics.result().numpy()]\n",
    "        records.test_loss    += [mte_loss_fn.result().numpy()]\n",
    "        records.test_metric  += [test_metrics.result().numpy()]\n",
    "        log = \"\"\n",
    "        for k,v in records.items():\n",
    "            log += \"{}: {} \".format(k,v[-1])\n",
    "        print(log)"
   ]
  },
  {
   "cell_type": "code",
   "execution_count": 8,
   "metadata": {},
   "outputs": [],
   "source": [
    "\n",
    "def init_model_opt(raw_model_opt, data):\n",
    "    \n",
    "    def opt_test_step(opt, inputs, labels):\n",
    "        predictions = opt(inputs)\n",
    "        loss = test_loss_fn(labels, predictions)\n",
    "        metrics = tf.reduce_mean(test_metrics(labels, predictions))\n",
    "        mte_loss_fn.update_state(loss)\n",
    "        return loss, metrics\n",
    "\n",
    "    for idx in range(len(raw_model_opt)):\n",
    "        mte_loss_fn.reset_states()\n",
    "        test_metrics.reset_states()\n",
    "        for step in range(1):\n",
    "            data = test_data\n",
    "            test_loss, test_acc = opt_test_step(opt=raw_model_opt[idx], inputs=data[\"inputs\"], labels=data[\"labels\"])\n",
    "        print(\"Init: opt_id:{}, Test loss:{}, Test acc:{}\".format(idx,\n",
    "                                                        mte_loss_fn.result().numpy(),\n",
    "                                                        test_metrics.result().numpy()))\n",
    "            \n",
    "def hard_save_model_opt(online_model_opt, path=\"./model_opt\"):\n",
    "    init_model_opt(online_model_opt, test_data)\n",
    "    for idx in range(len(online_model_opt)):\n",
    "        mpath = os.path.join(path, \"opt_{}\".format(idx))\n",
    "        online_model_opt[idx].save(mpath, overwrite=True, save_format='tf')\n",
    "\n",
    "def load_model_opt(path=\"./model_opt\"):\n",
    "    offline_model_opt = []\n",
    "    model_opt_list = os.listdir(path=path)\n",
    "    for idx in range(len(model_opt_list)):\n",
    "        mpath = os.path.join(path,  \"opt_{}\".format(idx))\n",
    "        offline_model_opt.append(tf.keras.models.load_model(mpath))\n",
    "    init_model_opt(offline_model_opt, test_data)\n",
    "    return offline_model_opt"
   ]
  },
  {
   "cell_type": "code",
   "execution_count": 9,
   "metadata": {},
   "outputs": [],
   "source": [
    "GIAO_EPOCH = 1000\n",
    "GIAO_BATCH = 1\n",
    "\n",
    "giao_optimizer = tf.keras.optimizers.Adam(2e-4)\n",
    "giao_loss_fn = tf.keras.losses.MeanSquaredError()\n",
    "def _opt_train_step(unet, regs, train_inputs, train_labels, labels):\n",
    "    gradients = []\n",
    "    losses = []\n",
    "    for idx in range(len(regs)):\n",
    "        with tf.GradientTape() as tape:\n",
    "            pseudo_inputs = unet(train_inputs)\n",
    "            # pseudo_inputs = train_inputs\n",
    "            predictions = regs[idx](pseudo_inputs)\n",
    "            reg_loss = opt_loss_fn(train_labels, predictions)\n",
    "            # print(reg_loss, labels[idx])\n",
    "            giao_loss = giao_loss_fn(labels[idx], reg_loss)\n",
    "            # giao_loss = tf.math.reduce_sum(labels[idx]-reg_loss)\n",
    "            losses.append(giao_loss)\n",
    "            # print(giao_loss)\n",
    "            grad = tape.gradient(giao_loss, unet.model.trainable_variables)\n",
    "            if gradients == []:\n",
    "                gradients = grad\n",
    "            else:\n",
    "                gradients = [sg1+sg2 for sg1,sg2 in zip(grad, gradients)]\n",
    "        \n",
    "    reduced_grads = [g/GIAO_BATCH for g in gradients]\n",
    "    giao_optimizer.apply_gradients(zip(reduced_grads, unet.model.trainable_variables))\n",
    "    reduced_loss = sum(losses)/GIAO_BATCH\n",
    "    return reduced_loss, pseudo_inputs"
   ]
  },
  {
   "cell_type": "code",
   "execution_count": 12,
   "metadata": {},
   "outputs": [],
   "source": [
    "\n",
    "train_data = iter_train.get_next()\n",
    "\n",
    "# unet = UNet(input_shape=[32, 32, 3])\n",
    "# unet = CUNet(input_shape=[32, 32, 3])\n",
    "unet = DiffusionUnet()"
   ]
  },
  {
   "cell_type": "code",
   "execution_count": 13,
   "metadata": {},
   "outputs": [
    {
     "name": "stdout",
     "output_type": "stream",
     "text": [
      "Epoch:0 GIAO Train Loss:6.470993995666504\n"
     ]
    },
    {
     "data": {
      "image/png": "[encoded data removed]",
      "text/plain": [
       "<Figure size 1080x1080 with 3 Axes>"
      ]
     },
     "metadata": {
      "needs_background": "light"
     },
     "output_type": "display_data"
    },
    {
     "ename": "",
     "evalue": "",
     "output_type": "error",
     "traceback": [
      "\u001b[1;31mThe Kernel crashed while executing code in the the current cell or a previous cell. Please review the code in the cell(s) to identify a possible cause of the failure. Click <a href='https://aka.ms/vscodeJupyterKernelCrash'>here</a> for more info. View Jupyter <a href='command:jupyter.viewOutput'>log</a> for further details."
     ]
    },
    {
     "ename": "",
     "evalue": "",
     "output_type": "error",
     "traceback": [
      "\u001b[1;31mCanceled future for execute_request message before replies were done"
     ]
    }
   ],
   "source": [
    "\n",
    "for i in range(GIAO_EPOCH):\n",
    "    idx = random.sample(range(len(model_opt)), GIAO_BATCH)\n",
    "    labels = [opt_label[i] for i in idx]\n",
    "    regs = [model_opt[i] for i in idx]\n",
    "    giao_train_loss, pseudo_inputs = _opt_train_step(unet, regs, test_data[\"inputs\"], test_data[\"labels\"], labels)\n",
    "    if i % 25 == 0:\n",
    "        print(\"Epoch:{} GIAO Train Loss:{}\".format(i, giao_train_loss))\n",
    "        display([test_data[\"inputs\"].numpy()[0], pseudo_inputs.numpy()[0], test_data[\"inputs\"][0]])\n",
    "        "
   ]
  },
  {
   "cell_type": "code",
   "execution_count": null,
   "metadata": {},
   "outputs": [],
   "source": [
    "# code test\n",
    "for i in range(3):\n",
    "    display([train_data[\"inputs\"].numpy()[i], pseudo_inputs.numpy()[i], test_data[\"inputs\"].numpy()[i]])\n"
   ]
  },
  {
   "cell_type": "code",
   "execution_count": 10,
   "metadata": {},
   "outputs": [
    {
     "name": "stdout",
     "output_type": "stream",
     "text": [
      "epoch: 0 train_loss: 2.1426074504852295 test_loss: 2.064070224761963 train_metric: 0.20188301801681519 test_metric: 0.24609375 \n",
      "epoch: 1 train_loss: 1.9400819540023804 test_loss: 1.9364384412765503 train_metric: 0.2974429130554199 test_metric: 0.33984375 \n",
      "epoch: 2 train_loss: 1.8461933135986328 test_loss: 1.9504245519638062 train_metric: 0.33594000339508057 test_metric: 0.3125 \n",
      "epoch: 3 train_loss: 1.783205509185791 test_loss: 1.7577452659606934 train_metric: 0.35811352729797363 test_metric: 0.37890625 \n",
      "epoch: 4 train_loss: 1.7303144931793213 test_loss: 1.791750431060791 train_metric: 0.3791412115097046 test_metric: 0.37890625 \n",
      "epoch: 5 train_loss: 1.6928223371505737 test_loss: 1.7199718952178955 train_metric: 0.39192667603492737 test_metric: 0.4140625 \n",
      "epoch: 6 train_loss: 1.6591309309005737 test_loss: 1.8424688577651978 train_metric: 0.40782809257507324 test_metric: 0.3515625 \n",
      "epoch: 7 train_loss: 1.6222847700119019 test_loss: 1.6623378992080688 train_metric: 0.41970890760421753 test_metric: 0.41796875 \n",
      "epoch: 8 train_loss: 1.5955594778060913 test_loss: 1.6210520267486572 train_metric: 0.4307655096054077 test_metric: 0.41796875 \n",
      "epoch: 9 train_loss: 1.5726820230484009 test_loss: 1.6275053024291992 train_metric: 0.4401133954524994 test_metric: 0.4765625 \n",
      "epoch: 10 train_loss: 1.5435518026351929 test_loss: 1.6147267818450928 train_metric: 0.4495818614959717 test_metric: 0.44921875 \n",
      "epoch: 11 train_loss: 1.5376794338226318 test_loss: 1.6986687183380127 train_metric: 0.451933890581131 test_metric: 0.42578125 \n",
      "epoch: 12 train_loss: 1.4999574422836304 test_loss: 1.570590615272522 train_metric: 0.46459874510765076 test_metric: 0.44921875 \n",
      "epoch: 13 train_loss: 1.479592204093933 test_loss: 1.5983537435531616 train_metric: 0.47139352560043335 test_metric: 0.45703125 \n",
      "epoch: 14 train_loss: 1.4689608812332153 test_loss: 1.5820796489715576 train_metric: 0.47977644205093384 test_metric: 0.45703125 \n",
      "epoch: 15 train_loss: 1.4540599584579468 test_loss: 1.6235005855560303 train_metric: 0.47850996255874634 test_metric: 0.4453125 \n",
      "epoch: 16 train_loss: 1.434923768043518 test_loss: 1.6001524925231934 train_metric: 0.4874356687068939 test_metric: 0.4375 \n",
      "epoch: 17 train_loss: 1.4250938892364502 test_loss: 1.5212973356246948 train_metric: 0.4911949038505554 test_metric: 0.484375 \n",
      "epoch: 18 train_loss: 1.4060782194137573 test_loss: 1.5998234748840332 train_metric: 0.4995979368686676 test_metric: 0.44921875 \n",
      "epoch: 19 train_loss: 1.394497036933899 test_loss: 1.5727951526641846 train_metric: 0.5013669729232788 test_metric: 0.46484375 \n",
      "epoch: 20 train_loss: 1.3765257596969604 test_loss: 1.5099232196807861 train_metric: 0.5095890760421753 test_metric: 0.4921875 \n",
      "epoch: 21 train_loss: 1.3662998676300049 test_loss: 1.5242234468460083 train_metric: 0.5142529606819153 test_metric: 0.45703125 \n",
      "epoch: 22 train_loss: 1.3554826974868774 test_loss: 1.5934969186782837 train_metric: 0.5153184533119202 test_metric: 0.43359375 \n",
      "epoch: 23 train_loss: 1.3430858850479126 test_loss: 1.6241072416305542 train_metric: 0.5203441381454468 test_metric: 0.4453125 \n",
      "epoch: 24 train_loss: 1.3384307622909546 test_loss: 1.5963832139968872 train_metric: 0.5234199166297913 test_metric: 0.44921875 \n",
      "epoch: 25 train_loss: 1.313085675239563 test_loss: 1.6227478981018066 train_metric: 0.5322048664093018 test_metric: 0.42578125 \n",
      "epoch: 26 train_loss: 1.3114129304885864 test_loss: 1.55131995677948 train_metric: 0.5326270461082458 test_metric: 0.42578125 \n",
      "epoch: 27 train_loss: 1.312996506690979 test_loss: 1.5046870708465576 train_metric: 0.5324863195419312 test_metric: 0.4765625 \n",
      "epoch: 28 train_loss: 1.2850947380065918 test_loss: 1.5500643253326416 train_metric: 0.5410300493240356 test_metric: 0.47265625 \n",
      "epoch: 29 train_loss: 1.2863000631332397 test_loss: 1.582185983657837 train_metric: 0.540668249130249 test_metric: 0.47265625 \n",
      "epoch: 30 train_loss: 1.2806997299194336 test_loss: 1.5553120374679565 train_metric: 0.5422563552856445 test_metric: 0.462890625 \n",
      "epoch: 31 train_loss: 1.2735536098480225 test_loss: 1.5562986135482788 train_metric: 0.5480862259864807 test_metric: 0.46162110567092896 \n",
      "epoch: 32 train_loss: 1.2524017095565796 test_loss: 1.5497734546661377 train_metric: 0.5557655096054077 test_metric: 0.45820313692092896 \n",
      "epoch: 33 train_loss: 1.2579443454742432 test_loss: 1.558271050453186 train_metric: 0.5514433979988098 test_metric: 0.45820313692092896 \n",
      "epoch: 34 train_loss: 1.2411075830459595 test_loss: 1.5682439804077148 train_metric: 0.5577757954597473 test_metric: 0.4551757872104645 \n",
      "epoch: 35 train_loss: 1.2316935062408447 test_loss: 1.5484076738357544 train_metric: 0.5619170069694519 test_metric: 0.46708986163139343 \n",
      "epoch: 36 train_loss: 1.2190793752670288 test_loss: 1.5596959590911865 train_metric: 0.5673649311065674 test_metric: 0.4598632752895355 \n",
      "epoch: 37 train_loss: 1.2225779294967651 test_loss: 1.5515698194503784 train_metric: 0.5638067126274109 test_metric: 0.4600585997104645 \n",
      "epoch: 38 train_loss: 1.2115683555603027 test_loss: 1.543843388557434 train_metric: 0.5667819380760193 test_metric: 0.46601563692092896 \n",
      "epoch: 39 train_loss: 1.1927086114883423 test_loss: 1.557922601699829 train_metric: 0.5763509273529053 test_metric: 0.4671874940395355 \n",
      "epoch: 40 train_loss: 1.20231032371521 test_loss: 1.5498921871185303 train_metric: 0.5706416964530945 test_metric: 0.47089844942092896 \n",
      "epoch: 41 train_loss: 1.1964619159698486 test_loss: 1.5505881309509277 train_metric: 0.5738782286643982 test_metric: 0.4681640565395355 \n",
      "epoch: 42 train_loss: 1.1751000881195068 test_loss: 1.5524191856384277 train_metric: 0.5827436447143555 test_metric: 0.47021484375 \n",
      "epoch: 43 train_loss: 1.1645375490188599 test_loss: 1.5435141324996948 train_metric: 0.5845931172370911 test_metric: 0.4712890684604645 \n",
      "epoch: 44 train_loss: 1.1691781282424927 test_loss: 1.5477473735809326 train_metric: 0.5845528841018677 test_metric: 0.47705078125 \n",
      "epoch: 45 train_loss: 1.1621512174606323 test_loss: 1.5535067319869995 train_metric: 0.5871260762214661 test_metric: 0.4745117127895355 \n",
      "epoch: 46 train_loss: 1.1548014879226685 test_loss: 1.567398190498352 train_metric: 0.5903224349021912 test_metric: 0.4715820252895355 \n",
      "epoch: 47 train_loss: 1.144562005996704 test_loss: 1.5597292184829712 train_metric: 0.5906842947006226 test_metric: 0.47607421875 \n",
      "epoch: 48 train_loss: 1.143236517906189 test_loss: 1.558976173400879 train_metric: 0.5949662327766418 test_metric: 0.4786132872104645 \n",
      "epoch: 49 train_loss: 1.1357672214508057 test_loss: 1.557134985923767 train_metric: 0.5963131189346313 test_metric: 0.4794921875 \n",
      "780\n"
     ]
    }
   ],
   "source": [
    "# training\n",
    "obtain_model_opts(sample_start=30, sample_gap=5) \n",
    "print(len(model_opt))"
   ]
  },
  {
   "cell_type": "code",
   "execution_count": null,
   "metadata": {},
   "outputs": [],
   "source": [
    "# save model opt\n",
    "hard_save_model_opt(model_opt)"
   ]
  },
  {
   "cell_type": "code",
   "execution_count": null,
   "metadata": {},
   "outputs": [],
   "source": [
    "# load model opt\n",
    "model_opt = load_model_opt()"
   ]
  },
  {
   "cell_type": "code",
   "execution_count": null,
   "metadata": {},
   "outputs": [],
   "source": [
    "# metrics visualization\n",
    "plot_train([records.train_loss, records.test_loss])\n",
    "plot_train([opt_label, opt_label])"
   ]
  },
  {
   "cell_type": "code",
   "execution_count": null,
   "metadata": {},
   "outputs": [],
   "source": [
    "train_data = iter_train.get_next()\n",
    "\n",
    "unet = UNet(input_shape=[32, 32, 3])\n",
    "output = unet(train_data[\"inputs\"])\n",
    "print(output.shape)\n",
    "display([train_data[\"inputs\"].numpy()[0],output.numpy()[0]])"
   ]
  }
 ],
 "metadata": {
  "kernelspec": {
   "display_name": "base",
   "language": "python",
   "name": "python3"
  },
  "language_info": {
   "codemirror_mode": {
    "name": "ipython",
    "version": 3
   },
   "file_extension": ".py",
   "mimetype": "text/x-python",
   "name": "python",
   "nbconvert_exporter": "python",
   "pygments_lexer": "ipython3",
   "version": "3.9.12"
  },
  "orig_nbformat": 4,
  "vscode": {
   "interpreter": {
    "hash": "14ddbbabdf1cc89aed24e001be3922f4034073f682acd1338a644a14376bd924"
   }
  }
 },
 "nbformat": 4,
 "nbformat_minor": 2
}
